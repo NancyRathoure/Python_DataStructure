{
  "nbformat": 4,
  "nbformat_minor": 0,
  "metadata": {
    "colab": {
      "provenance": []
    },
    "kernelspec": {
      "name": "python3",
      "display_name": "Python 3"
    },
    "language_info": {
      "name": "python"
    }
  },
  "cells": [
    {
      "cell_type": "markdown",
      "source": [
        "# **Data Types and Structures Questions**"
      ],
      "metadata": {
        "id": "E20afg5FhJU1"
      }
    },
    {
      "cell_type": "markdown",
      "source": [
        "## **Theory Questions**"
      ],
      "metadata": {
        "id": "P5FUnKEIhgCY"
      }
    },
    {
      "cell_type": "markdown",
      "source": [
        "**1.What are data structures, and why are they important?**\n",
        "\n",
        "Data structures are ways of organizing and storing data efficiently. They are important because they help optimize data access, retrieval, and modification for various computational tasks."
      ],
      "metadata": {
        "id": "g3tPtfrShZkz"
      }
    },
    {
      "cell_type": "markdown",
      "source": [
        "**2.Explain the difference between mutable and immutable data types with examples.**\n",
        "\n",
        "* Mutable data types can be changed after creation (e.g., list, dict, set).\n",
        "* Immutable data types cannot be changed after creation (e.g., int, float, str, tuple)."
      ],
      "metadata": {
        "id": "BxeR2gv7hrh1"
      }
    },
    {
      "cell_type": "markdown",
      "source": [
        "**3.What are the main differences between lists and tuples in Python?**\n",
        "\n",
        "* Lists are mutable, while tuples are immutable.\n",
        "* Lists have more built-in methods, while tuples are faster and more memory efficient."
      ],
      "metadata": {
        "id": "2Le0DJSYh6pG"
      }
    },
    {
      "cell_type": "markdown",
      "source": [
        "**4.Describe how dictionaries store data.**\n",
        "\n",
        "Dictionaries store data as key-value pairs using a hash table, allowing for fast retrieval."
      ],
      "metadata": {
        "id": "ez91mL6Hh-I8"
      }
    },
    {
      "cell_type": "markdown",
      "source": [
        "**5.Why might you use a set instead of a list in Python?**\n",
        "\n",
        "Sets store only unique elements and provide fast lookups."
      ],
      "metadata": {
        "id": "yConXJXUiFn-"
      }
    },
    {
      "cell_type": "markdown",
      "source": [
        "**6.What is a string in Python, and how is it different from a list?**\n",
        "\n",
        "A string is an immutable sequence of characters, whereas a list is a mutable sequence that can store any data type."
      ],
      "metadata": {
        "id": "gclO5QCyiIvP"
      }
    },
    {
      "cell_type": "markdown",
      "source": [
        "**7.How do tuples ensure data integrity in Python?**\n",
        "\n",
        "Since tuples are immutable, their values cannot be altered, ensuring consistency in data.\n"
      ],
      "metadata": {
        "id": "b-5OSuIkiNwy"
      }
    },
    {
      "cell_type": "markdown",
      "source": [
        "**8.What is a hash table, and how does it relate to dictionaries in Python?**\n",
        "\n",
        "A hash table is a data structure that maps keys to values using a hash function. Python’s dictionary is implemented using a hash table."
      ],
      "metadata": {
        "id": "K87kshHkiPUB"
      }
    },
    {
      "cell_type": "markdown",
      "source": [
        "**9.Can lists contain different data types in Python?**\n",
        "\n",
        "Yes, a list can contain mixed data types.\n"
      ],
      "metadata": {
        "id": "M4o4jt6qiTno"
      }
    },
    {
      "cell_type": "markdown",
      "source": [
        "**10.Explain why strings are immutable in Python?**\n",
        "\n",
        "Strings are immutable for security, performance optimization, and to enable hashability for dictionary keys."
      ],
      "metadata": {
        "id": "i2SlqxO7ia_5"
      }
    },
    {
      "cell_type": "markdown",
      "source": [
        "**11.What advantages do dictionaries offer over lists for certain tasks?**\n",
        "\n",
        "Dictionaries provide O(1) time complexity for key-based lookups, whereas lists require O(n) searches."
      ],
      "metadata": {
        "id": "VueqEODxib7N"
      }
    },
    {
      "cell_type": "markdown",
      "source": [
        "**12.Describe a scenario where using a tuple would be preferable over a list?**\n",
        "\n",
        "Tuples are preferable when storing constant data like coordinates or database records."
      ],
      "metadata": {
        "id": "B2ajvjArirB5"
      }
    },
    {
      "cell_type": "markdown",
      "source": [
        "**13.How do sets handle duplicate values in Python?**\n",
        "\n",
        "Sets automatically remove duplicate values."
      ],
      "metadata": {
        "id": "dsY8zfJ2iuX_"
      }
    },
    {
      "cell_type": "markdown",
      "source": [
        "**14.How does the “in” keyword work differently for lists and dictionaries?**\n",
        "\n",
        "In lists, it checks for the presence of a value, while in dictionaries, it checks for the presence of a key."
      ],
      "metadata": {
        "id": "7XXVi0A0i1gc"
      }
    },
    {
      "cell_type": "markdown",
      "source": [
        "**15.Can you modify the elements of a tuple? Explain why or why not.**\n",
        "\n",
        "No, tuples are immutable, meaning their elements cannot be changed after creation."
      ],
      "metadata": {
        "id": "fvpDeFpei2n7"
      }
    },
    {
      "cell_type": "markdown",
      "source": [
        "**16.What is a nested dictionary, and give an example of its use case.**\n",
        "\n",
        "A nested dictionary is a dictionary within another dictionary. Example:"
      ],
      "metadata": {
        "id": "2LGLXVsPi5qj"
      }
    },
    {
      "cell_type": "code",
      "source": [
        "student = {\"name\": \"Nancy\", \"marks\": {\"math\": 90, \"science\": 85}}"
      ],
      "metadata": {
        "id": "vG1rixxGi15H"
      },
      "execution_count": 3,
      "outputs": []
    },
    {
      "cell_type": "code",
      "source": [
        "student"
      ],
      "metadata": {
        "colab": {
          "base_uri": "https://localhost:8080/"
        },
        "id": "emNXqZvujBg3",
        "outputId": "16b4ae6e-4322-4911-cf1e-f5821978a279"
      },
      "execution_count": 4,
      "outputs": [
        {
          "output_type": "execute_result",
          "data": {
            "text/plain": [
              "{'name': 'Nancy', 'marks': {'math': 90, 'science': 85}}"
            ]
          },
          "metadata": {},
          "execution_count": 4
        }
      ]
    },
    {
      "cell_type": "markdown",
      "source": [
        "**17.Describe the time complexity of accessing elements in a dictionary.**\n",
        "\n",
        "The average time complexity is O(1) due to hash table implementation.\n"
      ],
      "metadata": {
        "id": "atM9odAUjGTG"
      }
    },
    {
      "cell_type": "markdown",
      "source": [
        "**18.In what situations are lists preferred over dictionaries?**\n",
        "\n",
        "Lists are preferred when order matters and when storing sequential data."
      ],
      "metadata": {
        "id": "V2tjO3rBjJml"
      }
    },
    {
      "cell_type": "markdown",
      "source": [
        "**19.Why are dictionaries considered unordered, and how does that affect data retrieval?**\n",
        "\n",
        "Before Python 3.7, dictionaries did not maintain insertion order. This means data retrieval order was not guaranteed."
      ],
      "metadata": {
        "id": "APJLUxFyjOJi"
      }
    },
    {
      "cell_type": "markdown",
      "source": [
        "**20.Explain the difference between a list and a dictionary in terms of data retrieval.**\n",
        "\n",
        "Lists require sequential searches (O(n)), whereas dictionaries offer direct key-based retrieval (O(1))."
      ],
      "metadata": {
        "id": "rXwDdWJcjXvg"
      }
    },
    {
      "cell_type": "markdown",
      "source": [
        "# **Practical Questions:**"
      ],
      "metadata": {
        "id": "8AqKMZIQjh2y"
      }
    },
    {
      "cell_type": "markdown",
      "source": [
        "**1.Create a string with your name and print it.**"
      ],
      "metadata": {
        "id": "7bZPZnUSkjQI"
      }
    },
    {
      "cell_type": "code",
      "source": [
        "name = \"Nancy Rathoure\"\n",
        "print(name)"
      ],
      "metadata": {
        "colab": {
          "base_uri": "https://localhost:8080/"
        },
        "id": "Yfaf3GqYjEYh",
        "outputId": "e1c29fea-1e23-45f3-aafc-26eff0aec1f2"
      },
      "execution_count": 6,
      "outputs": [
        {
          "output_type": "stream",
          "name": "stdout",
          "text": [
            "Nancy Rathoure\n"
          ]
        }
      ]
    },
    {
      "cell_type": "markdown",
      "source": [
        "**2.Find the length of the string \"Hello World\".**"
      ],
      "metadata": {
        "id": "3WxJpcb_kwyw"
      }
    },
    {
      "cell_type": "code",
      "source": [
        "print(len(\"Hello World\"))"
      ],
      "metadata": {
        "colab": {
          "base_uri": "https://localhost:8080/"
        },
        "id": "ddajFiQRjgbQ",
        "outputId": "dfda42e6-4b34-429e-818b-d6077ad03092"
      },
      "execution_count": 7,
      "outputs": [
        {
          "output_type": "stream",
          "name": "stdout",
          "text": [
            "11\n"
          ]
        }
      ]
    },
    {
      "cell_type": "markdown",
      "source": [
        "**3.Slice the first 3 characters from \"Python Programming\".**"
      ],
      "metadata": {
        "id": "8OY-RRMPk9QG"
      }
    },
    {
      "cell_type": "code",
      "source": [
        "print(\"Python Programming\"[:3])"
      ],
      "metadata": {
        "colab": {
          "base_uri": "https://localhost:8080/"
        },
        "id": "wu3OPfU_k1L5",
        "outputId": "0f89f903-d11a-4de5-f7f4-a667f8003020"
      },
      "execution_count": 9,
      "outputs": [
        {
          "output_type": "stream",
          "name": "stdout",
          "text": [
            "Pyt\n"
          ]
        }
      ]
    },
    {
      "cell_type": "markdown",
      "source": [
        "**4.Convert the string \"hello\" to uppercase.**"
      ],
      "metadata": {
        "id": "4MLphNtwlDPh"
      }
    },
    {
      "cell_type": "code",
      "source": [
        "print(\"hello\".upper())\n"
      ],
      "metadata": {
        "colab": {
          "base_uri": "https://localhost:8080/"
        },
        "id": "S3eUEmH4lBd1",
        "outputId": "f7e5996d-9537-4559-f306-73f5252cdc0b"
      },
      "execution_count": 10,
      "outputs": [
        {
          "output_type": "stream",
          "name": "stdout",
          "text": [
            "HELLO\n"
          ]
        }
      ]
    },
    {
      "cell_type": "markdown",
      "source": [
        "**5.Replace \"apple\" with \"orange\" in \"I like apple\".**"
      ],
      "metadata": {
        "id": "QcacHZuelPIh"
      }
    },
    {
      "cell_type": "code",
      "source": [
        "print(\"I like apple\".replace(\"apple\", \"orange\"))\n"
      ],
      "metadata": {
        "colab": {
          "base_uri": "https://localhost:8080/"
        },
        "id": "SS7ILM-9lJvX",
        "outputId": "acdd39e5-fffc-4ed1-a39b-5def70a7e3a3"
      },
      "execution_count": 11,
      "outputs": [
        {
          "output_type": "stream",
          "name": "stdout",
          "text": [
            "I like orange\n"
          ]
        }
      ]
    },
    {
      "cell_type": "markdown",
      "source": [
        "**6.Create a list with numbers 1 to 5 and print it.**"
      ],
      "metadata": {
        "id": "rqa0nALZlUcB"
      }
    },
    {
      "cell_type": "code",
      "source": [
        "numbers = [1, 2, 3, 4, 5]\n",
        "print(numbers)\n"
      ],
      "metadata": {
        "colab": {
          "base_uri": "https://localhost:8080/"
        },
        "id": "HPwZYiMplR7L",
        "outputId": "747003cb-7299-4931-efd9-910214c9963a"
      },
      "execution_count": 12,
      "outputs": [
        {
          "output_type": "stream",
          "name": "stdout",
          "text": [
            "[1, 2, 3, 4, 5]\n"
          ]
        }
      ]
    },
    {
      "cell_type": "markdown",
      "source": [
        "**7.Append 10 to the list [1, 2, 3, 4].**"
      ],
      "metadata": {
        "id": "x8S6rcI1lXzj"
      }
    },
    {
      "cell_type": "code",
      "source": [
        "numbers = [1, 2, 3, 4]\n",
        "numbers.append(10)\n",
        "print(numbers)\n"
      ],
      "metadata": {
        "colab": {
          "base_uri": "https://localhost:8080/"
        },
        "id": "D7hk8gEslXKc",
        "outputId": "1c388d7b-4f27-4005-ac26-d4a515410e7e"
      },
      "execution_count": 13,
      "outputs": [
        {
          "output_type": "stream",
          "name": "stdout",
          "text": [
            "[1, 2, 3, 4, 10]\n"
          ]
        }
      ]
    },
    {
      "cell_type": "markdown",
      "source": [
        "**8.Remove 3 from the list [1, 2, 3, 4, 5].**"
      ],
      "metadata": {
        "id": "SKXioipNlh3I"
      }
    },
    {
      "cell_type": "code",
      "source": [
        "numbers = [1, 2, 3, 4, 5]\n",
        "numbers.remove(3)\n",
        "print(numbers)\n"
      ],
      "metadata": {
        "colab": {
          "base_uri": "https://localhost:8080/"
        },
        "id": "jscOoBBPlcpR",
        "outputId": "cf622a56-62a1-43e2-f9a6-282cf6e7a700"
      },
      "execution_count": 14,
      "outputs": [
        {
          "output_type": "stream",
          "name": "stdout",
          "text": [
            "[1, 2, 4, 5]\n"
          ]
        }
      ]
    },
    {
      "cell_type": "markdown",
      "source": [
        "**9.Access the second element in ['a', 'b', 'c', 'd'].**"
      ],
      "metadata": {
        "id": "YzFzUTckll7v"
      }
    },
    {
      "cell_type": "code",
      "source": [
        "letters = ['a', 'b', 'c', 'd']\n",
        "print(letters[1])\n"
      ],
      "metadata": {
        "colab": {
          "base_uri": "https://localhost:8080/"
        },
        "id": "0ag_TBMxllJK",
        "outputId": "ecd3be62-b816-4761-ba6f-f8ee89876264"
      },
      "execution_count": 15,
      "outputs": [
        {
          "output_type": "stream",
          "name": "stdout",
          "text": [
            "b\n"
          ]
        }
      ]
    },
    {
      "cell_type": "markdown",
      "source": [
        "**10.Reverse the list [10, 20, 30, 40, 50].**"
      ],
      "metadata": {
        "id": "n_svpJW_luek"
      }
    },
    {
      "cell_type": "code",
      "source": [
        "numbers = [10, 20, 30, 40, 50]\n",
        "numbers.reverse()\n",
        "print(numbers)\n"
      ],
      "metadata": {
        "colab": {
          "base_uri": "https://localhost:8080/"
        },
        "id": "LUuOu7jKlqnH",
        "outputId": "e5aab50c-cc52-43b0-fb53-685137edf93c"
      },
      "execution_count": 16,
      "outputs": [
        {
          "output_type": "stream",
          "name": "stdout",
          "text": [
            "[50, 40, 30, 20, 10]\n"
          ]
        }
      ]
    },
    {
      "cell_type": "markdown",
      "source": [
        "**11.Create a tuple (100, 200, 300) and print it.**"
      ],
      "metadata": {
        "id": "fBfN5Gyyl0om"
      }
    },
    {
      "cell_type": "code",
      "source": [
        "numbers = (100, 200, 300)\n",
        "print(numbers)\n"
      ],
      "metadata": {
        "colab": {
          "base_uri": "https://localhost:8080/"
        },
        "id": "RIu8s461lx-L",
        "outputId": "a8918097-b4db-40bb-eb62-34497cc3987e"
      },
      "execution_count": 17,
      "outputs": [
        {
          "output_type": "stream",
          "name": "stdout",
          "text": [
            "(100, 200, 300)\n"
          ]
        }
      ]
    },
    {
      "cell_type": "markdown",
      "source": [
        "**12.Access the second-to-last element in ('red', 'green', 'blue', 'yellow').**"
      ],
      "metadata": {
        "id": "8-fXIZj0l4Wo"
      }
    },
    {
      "cell_type": "code",
      "source": [
        "colors = ('red', 'green', 'blue', 'yellow')\n",
        "print(colors[-2])\n"
      ],
      "metadata": {
        "colab": {
          "base_uri": "https://localhost:8080/"
        },
        "id": "Wg3tY_Xpl84t",
        "outputId": "81b07fc2-26dc-40dd-f585-882a436429c0"
      },
      "execution_count": 18,
      "outputs": [
        {
          "output_type": "stream",
          "name": "stdout",
          "text": [
            "blue\n"
          ]
        }
      ]
    },
    {
      "cell_type": "markdown",
      "source": [
        "**13.Find the minimum number in (10, 20, 5, 15).**"
      ],
      "metadata": {
        "id": "17IkSX5gmCwE"
      }
    },
    {
      "cell_type": "code",
      "source": [
        "numbers = (10, 20, 5, 15)\n",
        "print(min(numbers))\n"
      ],
      "metadata": {
        "colab": {
          "base_uri": "https://localhost:8080/"
        },
        "id": "kCEpA2Kpl-KF",
        "outputId": "e9ca7f29-161d-4fe1-87d2-2bf80e98395d"
      },
      "execution_count": 19,
      "outputs": [
        {
          "output_type": "stream",
          "name": "stdout",
          "text": [
            "5\n"
          ]
        }
      ]
    },
    {
      "cell_type": "markdown",
      "source": [
        "**14.Find the index of \"cat\" in ('dog', 'cat', 'rabbit').**"
      ],
      "metadata": {
        "id": "0vPubYJ_mKo9"
      }
    },
    {
      "cell_type": "code",
      "source": [
        "animals = ('dog', 'cat', 'rabbit')\n",
        "print(animals.index(\"cat\"))\n"
      ],
      "metadata": {
        "colab": {
          "base_uri": "https://localhost:8080/"
        },
        "id": "E39e6b0BmF1S",
        "outputId": "798358df-9402-40ec-eee7-2e07ca7beb13"
      },
      "execution_count": 20,
      "outputs": [
        {
          "output_type": "stream",
          "name": "stdout",
          "text": [
            "1\n"
          ]
        }
      ]
    },
    {
      "cell_type": "markdown",
      "source": [
        "**15.Create a tuple with three fruits and check if \"kiwi\" is in it.**"
      ],
      "metadata": {
        "id": "-oYRrgsvmRNN"
      }
    },
    {
      "cell_type": "code",
      "source": [
        "fruits = (\"apple\", \"banana\", \"cherry\")\n",
        "print(\"kiwi\" in fruits)\n"
      ],
      "metadata": {
        "colab": {
          "base_uri": "https://localhost:8080/"
        },
        "id": "k6m2f8T0mObT",
        "outputId": "d79ed643-c09e-46f2-fda2-ace67d722eea"
      },
      "execution_count": 21,
      "outputs": [
        {
          "output_type": "stream",
          "name": "stdout",
          "text": [
            "False\n"
          ]
        }
      ]
    },
    {
      "cell_type": "markdown",
      "source": [
        "**16.Create a set {'a', 'b', 'c'} and print it.**"
      ],
      "metadata": {
        "id": "79UJJCqAmXhH"
      }
    },
    {
      "cell_type": "code",
      "source": [
        "letters = {'a', 'b', 'c'}\n",
        "print(letters)\n"
      ],
      "metadata": {
        "colab": {
          "base_uri": "https://localhost:8080/"
        },
        "id": "aA1ZPtkdmWB2",
        "outputId": "3a82f000-5bb1-443a-e91c-e80e56e67149"
      },
      "execution_count": 22,
      "outputs": [
        {
          "output_type": "stream",
          "name": "stdout",
          "text": [
            "{'a', 'b', 'c'}\n"
          ]
        }
      ]
    },
    {
      "cell_type": "markdown",
      "source": [
        "**17.Clear all elements from {1, 2, 3, 4, 5}.**"
      ],
      "metadata": {
        "id": "RNeMmEGSmf9Z"
      }
    },
    {
      "cell_type": "code",
      "source": [
        "numbers = {1, 2, 3, 4, 5}\n",
        "numbers.clear()\n",
        "print(numbers)\n"
      ],
      "metadata": {
        "colab": {
          "base_uri": "https://localhost:8080/"
        },
        "id": "SxqHomeqmfSm",
        "outputId": "49f213f6-ecb0-49f4-a4e7-e856e054256c"
      },
      "execution_count": 23,
      "outputs": [
        {
          "output_type": "stream",
          "name": "stdout",
          "text": [
            "set()\n"
          ]
        }
      ]
    },
    {
      "cell_type": "markdown",
      "source": [
        "**18.Remove 4 from {1, 2, 3, 4}.**"
      ],
      "metadata": {
        "id": "9_hsNwOumlvF"
      }
    },
    {
      "cell_type": "code",
      "source": [
        "numbers = {1, 2, 3, 4}\n",
        "numbers.remove(4)\n",
        "print(numbers)\n"
      ],
      "metadata": {
        "colab": {
          "base_uri": "https://localhost:8080/"
        },
        "id": "JubtLb7vmlDk",
        "outputId": "ca32cdcd-7d64-4a4d-8452-d6141abf5316"
      },
      "execution_count": 24,
      "outputs": [
        {
          "output_type": "stream",
          "name": "stdout",
          "text": [
            "{1, 2, 3}\n"
          ]
        }
      ]
    },
    {
      "cell_type": "markdown",
      "source": [
        "**19.Find the union of {1, 2, 3} and {3, 4, 5}.**"
      ],
      "metadata": {
        "id": "VlHWSJ8lmx3o"
      }
    },
    {
      "cell_type": "code",
      "source": [
        "set1 = {1, 2, 3}\n",
        "set2 = {3, 4, 5}\n",
        "print(set1 | set2)\n"
      ],
      "metadata": {
        "colab": {
          "base_uri": "https://localhost:8080/"
        },
        "id": "Vng-L9tymvYh",
        "outputId": "df464c4a-df6b-4f7a-c910-3928411f25fc"
      },
      "execution_count": 25,
      "outputs": [
        {
          "output_type": "stream",
          "name": "stdout",
          "text": [
            "{1, 2, 3, 4, 5}\n"
          ]
        }
      ]
    },
    {
      "cell_type": "markdown",
      "source": [
        "**20.Find the intersection of {1, 2, 3} and {2, 3, 4}.**"
      ],
      "metadata": {
        "id": "pDEhN_9Fm4cf"
      }
    },
    {
      "cell_type": "code",
      "source": [
        "print({1, 2, 3} & {2, 3, 4})\n"
      ],
      "metadata": {
        "colab": {
          "base_uri": "https://localhost:8080/"
        },
        "id": "-RvdNJuHm33c",
        "outputId": "af8533bf-a2a4-4c41-bd93-c8f8a12fc99d"
      },
      "execution_count": 26,
      "outputs": [
        {
          "output_type": "stream",
          "name": "stdout",
          "text": [
            "{2, 3}\n"
          ]
        }
      ]
    }
  ]
}